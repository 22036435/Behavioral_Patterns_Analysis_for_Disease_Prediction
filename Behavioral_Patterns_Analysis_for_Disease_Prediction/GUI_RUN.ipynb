{
 "cells": [
  {
   "cell_type": "markdown",
   "id": "20a29fde-fd50-4e33-a681-ca80ebf395ab",
   "metadata": {},
   "source": [
    "GUI"
   ]
  },
  {
   "cell_type": "code",
   "execution_count": null,
   "id": "8d13a454-aac8-4091-b62a-f6e4fb3c5f4d",
   "metadata": {},
   "outputs": [],
   "source": [
    "import pandas as pd\n",
    "import numpy as np\n",
    "\n",
    "df = pd.read_csv('1.csv')"
   ]
  },
  {
   "cell_type": "code",
   "execution_count": null,
   "id": "0e71a009-f4a8-4c09-841e-56819649fa1a",
   "metadata": {},
   "outputs": [],
   "source": [
    "import tkinter as tk\n",
    "from tkinter import ttk"
   ]
  },
  {
   "cell_type": "code",
   "execution_count": null,
   "id": "540ee9f4-a1ed-4cee-a87f-8fa339e9fadf",
   "metadata": {},
   "outputs": [],
   "source": [
    "def create_label_entry(parent, label_text):\n",
    "    label = ttk.Label(parent, text=label_text)\n",
    "    label.pack()\n",
    "    entry = ttk.Entry(parent)\n",
    "    entry.pack()\n",
    "    return entry"
   ]
  },
  {
   "cell_type": "code",
   "execution_count": null,
   "id": "4331065e-ffd5-4750-9c12-6c30ba355ff5",
   "metadata": {},
   "outputs": [],
   "source": [
    "def create_checkbutton(parent, label_text, var):\n",
    "    check = ttk.Checkbutton(parent, text=label_text, variable=var)\n",
    "    check.pack()\n",
    "    return check"
   ]
  },
  {
   "cell_type": "code",
   "execution_count": null,
   "id": "31479999-4f66-46e5-a846-f8be1768b7f5",
   "metadata": {},
   "outputs": [],
   "source": [
    "root = tk.Tk()\n",
    "root.title(\"Behavioral Patterns Analysis for Disease Prediction in Psychology\")\n",
    "\n",
    "age_options = [\"18-25\", \"26-35\", \"36-45\", \"46-55\", \"56-65\", \"Above 65\"]\n",
    "gender_options = [\"Male\", \"Female\", \"Non-Binary\", \"Prefer Not to Say\"]\n",
    "depression_options = [\"Not at all\", \"Mild\", \"Moderate\", \"Severe\"]\n",
    "tiredness_options = [\"Never\", \"Sometimes\", \"Often\", \"Always\"]\n",
    "income_options = [\"<20,000\", \"20,000-50,000\", \"50,000-100,000\", \"100,000-200,000\", \">200,000\"]\n",
    "region_options = [\"North America\", \"Europe\", \"Asia\", \"South America\", \"Africa\", \"Australia\"]\n",
    "frequency_options = [\"Never\", \"Rarely\", \"Sometimes\", \"Often\", \"Always\"]\n",
    "\n",
    "def create_combobox(parent, label_text, options):\n",
    "    label = ttk.Label(parent, text=label_text)\n",
    "    label.pack()\n",
    "    combobox = ttk.Combobox(parent, values=options)\n",
    "    combobox.pack()\n",
    "    return combobox\n",
    "\n",
    "age_combobox = create_combobox(root, \"Age:\", age_options)\n",
    "\n",
    "gender_combobox = create_combobox(root, \"Gender:\", gender_options)\n",
    "\n",
    "depression_combobox = create_combobox(root, \"Depression:\", depression_options)\n",
    "\n",
    "tiredness_combobox = create_combobox(root, \"Tiredness:\", tiredness_options)\n",
    "\n",
    "income_combobox = create_combobox(root, \"Household Income:\", income_options)\n",
    "\n",
    "region_combobox = create_combobox(root, \"Region:\", region_options)\n",
    "\n",
    "behavior_combobox = create_combobox(root, \"Compulsive Behavior:\", frequency_options)\n",
    "\n",
    "attacks_combobox = create_combobox(root, \"Panic attacks:\", frequency_options)\n",
    "\n",
    "swings_combobox = create_combobox(root, \"Mood swings:\", frequency_options)\n",
    "\n",
    "thinking_combobox = create_combobox(root, \"Obsessive thinking:\", frequency_options)\n",
    "\n",
    "concentration_combobox = create_combobox(root, \"Lack of concentration:\", frequency_options)\n",
    "\n",
    "employed_var = tk.BooleanVar()\n",
    "employed_check = create_checkbutton(root, \"I am currently employed at least part-time:\", employed_var)\n",
    "\n",
    "mental_var = tk.BooleanVar()\n",
    "mental_check = create_checkbutton(root, \"I identify as having a mental illness:\", mental_var)\n",
    "\n",
    "phone_var = tk.BooleanVar()\n",
    "phone_check = create_checkbutton(root, \"I have my own computer separate from a smart phone:\", phone_var)\n",
    "\n",
    "hospitalized_var = tk.BooleanVar()\n",
    "hospitalized_check = create_checkbutton(root, \"I have been hospitalized before for my mental illness:\", hospitalized_var)\n",
    "\n",
    "disabled_var = tk.BooleanVar()\n",
    "disabled_check = create_checkbutton(root, \"I am legally disabled:\", disabled_var)\n",
    "\n",
    "internet_var = tk.BooleanVar()\n",
    "internet_check = create_checkbutton(root, \"I have my regular access to the internet:\", internet_var)\n",
    "\n",
    "live_w_parents_var = tk.BooleanVar()\n",
    "live_w_parents_check = create_checkbutton(root, \"I live with my parents:\", live_w_parents_var)\n",
    "\n",
    "resume_gap_var = tk.BooleanVar()\n",
    "resume_gap_check = create_checkbutton(root, \"I have a gap in my resume:\", resume_gap_var)\n",
    "\n",
    "unemployed_var = tk.BooleanVar()\n",
    "unemployed_check = create_checkbutton(root, \"I am unemployed:\", unemployed_var)\n",
    "\n",
    "read_outside_var = tk.BooleanVar()\n",
    "read_outside_check = create_checkbutton(root, \"I read outside of work and school:\", read_outside_var)\n",
    "\n",
    "food_stamps_var = tk.BooleanVar()\n",
    "food_stamps_check = create_checkbutton(root, \"I receive food stamps:\", food_stamps_var)\n",
    "\n",
    "section_8_housing_var = tk.BooleanVar()\n",
    "section_8_housing_check = create_checkbutton(root, \"I am on section 8 housing:\", section_8_housing_var)\n",
    "\n",
    "nlp_entry = create_label_entry(root, \"Can you describe why you applied for this test with a few sentences:\")\n",
    "\n",
    "def submit_data():\n",
    "    data = {\n",
    "        \"Age\": age_combobox.get(),\n",
    "        \"Gender\": gender_combobox.get(),\n",
    "        \"Depression\": depression_combobox.get(),\n",
    "        \"Tiredness\": tiredness_combobox.get(),\n",
    "        \"Household Income\": income_combobox.get(),\n",
    "        \"Region\": region_combobox.get(),\n",
    "        \"Compulsive Behavior\": behavior_combobox.get(),\n",
    "        \"Panic Attacks\": attacks_combobox.get(),\n",
    "        \"Mood Swings\": swings_combobox.get(),\n",
    "        \"Obsessive Thinking\": thinking_combobox.get(),\n",
    "        \"Lack of Concentration\": concentration_combobox.get(),\n",
    "        \"Can you describe why you applied for this test with a few sentences\": nlp_entry.get(),\n",
    "        \"Employed Part-Time\": employed_var.get(),\n",
    "        \"Identify Mental Illness\": mental_var.get(),\n",
    "        \"Own Computer\": phone_var.get(),\n",
    "        \"Hospitalized Before\": hospitalized_var.get(),\n",
    "        \"Legally Disabled\": disabled_var.get(),\n",
    "        \"Access to Internet\": internet_var.get(),\n",
    "        \"Live with Parents\": live_w_parents_var.get(),\n",
    "        \"Resume Gap\": resume_gap_var.get(),\n",
    "        \"Unemployed\": unemployed_var.get(),\n",
    "        \"Read Outside Work/School\": read_outside_var.get(),\n",
    "        \"Receive Food Stamps\": food_stamps_var.get(),\n",
    "        \"On Section 8 Housing\": section_8_housing_var.get()\n",
    "    }\n",
    "\n",
    "    df = pd.DataFrame([data])\n",
    "\n",
    "    df.to_csv('survey_results.csv', mode='a', header=not pd.read_csv('survey_results.csv').empty, index=False)\n",
    "\n",
    "def submit_data():\n",
    "    print(\"Data Submitted\")\n",
    "\n",
    "submit_button = ttk.Button(root, text=\"Submit\", command=submit_data)\n",
    "submit_button.pack()\n",
    "\n",
    "root.mainloop()"
   ]
  },
  {
   "cell_type": "markdown",
   "id": "5f8ba1cc-6bbf-413e-8c72-d9459bd7be22",
   "metadata": {},
   "source": [
    "Running Models on New Collected Data"
   ]
  },
  {
   "cell_type": "code",
   "execution_count": null,
   "id": "72a9e97e-7ffa-4142-9dcd-4681958bcd88",
   "metadata": {},
   "outputs": [],
   "source": [
    "from sklearn.preprocessing import OneHotEncoder, StandardScaler\n",
    "from sklearn.compose import ColumnTransformer\n",
    "import pandas as pd\n",
    "\n",
    "one_hot = OneHotEncoder()\n",
    "scaler = StandardScaler()\n",
    "\n",
    "def preprocess_patient_data(patient_data, one_hot, scaler):\n",
    "    df_patient = df\n",
    "    df_patient_encoded = one_hot.transform(df_patient[categorical_features])\n",
    "    df_patient_scaled = scaler.transform(df_patient[numerical_features])\n",
    "    df_patient_processed = np.concatenate([df_patient_encoded, df_patient_scaled], axis=1)\n",
    "    return df_patient_processed"
   ]
  },
  {
   "cell_type": "code",
   "execution_count": null,
   "id": "a49a9de3-1048-45a2-9b71-14321aefcd39",
   "metadata": {},
   "outputs": [],
   "source": [
    "def predict_anxiety(patient_data, model):\n",
    "\n",
    "    preprocessed_data = preprocess_patient_data(patient_data, one_hot, scaler)\n",
    "\n",
    "    anxiety_probability = model.predict_proba(preprocessed_data)[0][1]\n",
    "\n",
    "    return anxiety_probability"
   ]
  },
  {
   "cell_type": "code",
   "execution_count": null,
   "id": "438eba0b-1813-4d0d-b419-505501c6ea25",
   "metadata": {},
   "outputs": [],
   "source": [
    "#Stacking Classifier\n",
    "stacking_clf_probabilities = stacking_clf.predict_proba(preprocessed_data)[:, 1]  # Assuming '1' indicates anxiety\n",
    "\n",
    "#Logistic Regression\n",
    "log_reg_probabilities = log_reg.predict_proba(preprocessed_data)[:, 1]\n",
    "\n",
    "bert_probabilities = []"
   ]
  },
  {
   "cell_type": "code",
   "execution_count": null,
   "id": "ce932a75-2492-4f76-9b4f-2e7ba8d05d28",
   "metadata": {},
   "outputs": [],
   "source": [
    "results_df = pd.DataFrame({\n",
    "    'Stacking_Classifier_Probability': stacking_clf_probabilities,\n",
    "    'Logistic_Regression_Probability': log_reg_probabilities,\n",
    "    'BERT_Probability': bert_probabilities,\n",
    "})"
   ]
  },
  {
   "cell_type": "code",
   "execution_count": null,
   "id": "17afd2c8-ffd8-4e07-81d8-b84b80f1d1a5",
   "metadata": {},
   "outputs": [],
   "source": [
    "import matplotlib.pyplot as plt\n",
    "\n",
    "results_df.mean().plot(kind='bar')\n",
    "plt.title('Average Probability of Anxiety by Model')\n",
    "plt.ylabel('Probability')\n",
    "plt.xlabel('Models')\n",
    "plt.show()"
   ]
  },
  {
   "cell_type": "code",
   "execution_count": null,
   "id": "642fcf6a-05e9-4c14-858c-cb79070f5137",
   "metadata": {},
   "outputs": [],
   "source": [
    "explanatory_text = \"\"\"\n",
    "Based on the survey responses, the models have estimated a certain likelihood of anxiety. The Stacking Classifier, with its ensemble approach, offers a comprehensive probability by considering various features like 'X', 'Y', and 'Z'. The Logistic Regression model, which is more straightforward, focuses on features like 'A', 'B', and 'C'. These predictions help in understanding the potential factors contributing to anxiety but should be interpreted with caution and professional consultation.\n",
    "\"\"\"\n",
    "print(explanatory_text)"
   ]
  },
  {
   "cell_type": "code",
   "execution_count": 1,
   "id": "e538ce01-1cd2-4914-89f1-a9b78e95f977",
   "metadata": {},
   "outputs": [
    {
     "ename": "NameError",
     "evalue": "name 'stacking_clf' is not defined",
     "output_type": "error",
     "traceback": [
      "\u001b[0;31m---------------------------------------------------------------------------\u001b[0m",
      "\u001b[0;31mNameError\u001b[0m                                 Traceback (most recent call last)",
      "Cell \u001b[0;32mIn[1], line 2\u001b[0m\n\u001b[1;32m      1\u001b[0m \u001b[38;5;66;03m# Assuming your Stacking Classifier has a RandomForest and a Logistic Regression\u001b[39;00m\n\u001b[0;32m----> 2\u001b[0m random_forest \u001b[38;5;241m=\u001b[39m stacking_clf\u001b[38;5;241m.\u001b[39mnamed_estimators_[\u001b[38;5;124m'\u001b[39m\u001b[38;5;124mrf\u001b[39m\u001b[38;5;124m'\u001b[39m]\n\u001b[1;32m      3\u001b[0m log_reg_in_stack \u001b[38;5;241m=\u001b[39m stacking_clf\u001b[38;5;241m.\u001b[39mnamed_estimators_[\u001b[38;5;124m'\u001b[39m\u001b[38;5;124mlr\u001b[39m\u001b[38;5;124m'\u001b[39m]\n\u001b[1;32m      5\u001b[0m \u001b[38;5;66;03m# Feature importances for Random Forest\u001b[39;00m\n",
      "\u001b[0;31mNameError\u001b[0m: name 'stacking_clf' is not defined"
     ]
    }
   ],
   "source": [
    "log_reg_in_stack = stacking_clf.named_estimators_['lr']\n",
    "\n",
    "# Coefficients for Logistic Regression in the stack\n",
    "lr_in_stack_importance = pd.DataFrame({'Feature': feature_names, 'Importance': log_reg_in_stack.coef_[0]})\n",
    "print(lr_in_stack_importance.sort_values(by='Importance', ascending=False))\n",
    "\n",
    "# Logistic Regression\n",
    "feature_importance = pd.DataFrame({'Feature': feature_names, 'Importance': log_reg.coef_[0]})\n",
    "print(feature_importance.sort_values(by='Importance', ascending=False))"
   ]
  },
  {
   "cell_type": "code",
   "execution_count": null,
   "id": "2d7212c0-fae4-4eda-8fc6-65979dadc423",
   "metadata": {},
   "outputs": [],
   "source": []
  }
 ],
 "metadata": {
  "kernelspec": {
   "display_name": "Python 3 (ipykernel)",
   "language": "python",
   "name": "python3"
  },
  "language_info": {
   "codemirror_mode": {
    "name": "ipython",
    "version": 3
   },
   "file_extension": ".py",
   "mimetype": "text/x-python",
   "name": "python",
   "nbconvert_exporter": "python",
   "pygments_lexer": "ipython3",
   "version": "3.11.5"
  }
 },
 "nbformat": 4,
 "nbformat_minor": 5
}
