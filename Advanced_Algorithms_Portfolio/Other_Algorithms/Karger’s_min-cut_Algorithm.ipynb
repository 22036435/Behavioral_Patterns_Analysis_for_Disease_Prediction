{
 "cells": [
  {
   "cell_type": "code",
   "execution_count": 2,
   "metadata": {},
   "outputs": [
    {
     "name": "stdout",
     "output_type": "stream",
     "text": [
      "Minimum cut: 4\n"
     ]
    }
   ],
   "source": [
    "import random\n",
    "\n",
    "def kargerMinCut(graph):\n",
    "    # While there are more than 2 vertices in the graph\n",
    "    while len(graph) > 2:\n",
    "        # Selecting a random edge\n",
    "        u = random.choice(list(graph.keys()))\n",
    "        v = random.choice(list(graph[u]))\n",
    "\n",
    "        # Merging u and v into a single vertex\n",
    "        for node in graph[v]:\n",
    "            if node != u:  # Avoiding self-loops\n",
    "                graph[u].append(node)\n",
    "            graph[node].remove(v)\n",
    "            if node != u:\n",
    "                graph[node].append(u)\n",
    "\n",
    "        # Removing the merged vertex\n",
    "        del graph[v]\n",
    "\n",
    "    # Returning the cut represented by the remaining two vertices\n",
    "    for key in graph.keys():\n",
    "        return len(graph[key])\n",
    "\n",
    "graph = {\n",
    "    'A': ['B', 'C', 'D'],\n",
    "    'B': ['A', 'C', 'D'],\n",
    "    'C': ['A', 'B', 'D'],\n",
    "    'D': ['A', 'B', 'C']\n",
    "}\n",
    "\n",
    "min_cut = kargerMinCut(graph)\n",
    "print(f\"Minimum cut: {min_cut}\")"
   ]
  }
 ],
 "metadata": {
  "kernelspec": {
   "display_name": "Python 3.11.3 64-bit",
   "language": "python",
   "name": "python3"
  },
  "language_info": {
   "codemirror_mode": {
    "name": "ipython",
    "version": 3
   },
   "file_extension": ".py",
   "mimetype": "text/x-python",
   "name": "python",
   "nbconvert_exporter": "python",
   "pygments_lexer": "ipython3",
   "version": "3.11.3"
  },
  "orig_nbformat": 4,
  "vscode": {
   "interpreter": {
    "hash": "aee8b7b246df8f9039afb4144a1f6fd8d2ca17a180786b69acc140d282b71a49"
   }
  }
 },
 "nbformat": 4,
 "nbformat_minor": 2
}
