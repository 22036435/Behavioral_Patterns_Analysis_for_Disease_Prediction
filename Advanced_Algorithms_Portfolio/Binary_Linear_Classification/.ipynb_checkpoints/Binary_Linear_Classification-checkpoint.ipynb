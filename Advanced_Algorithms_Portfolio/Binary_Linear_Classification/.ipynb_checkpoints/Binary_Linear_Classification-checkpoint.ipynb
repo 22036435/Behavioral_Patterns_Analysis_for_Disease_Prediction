{
 "cells": [
  {
   "cell_type": "code",
   "execution_count": 1,
   "id": "aaf9e297-335b-4dfb-9638-7a3d76bbc7d7",
   "metadata": {},
   "outputs": [],
   "source": [
    "import numpy as np\n",
    "import pandas as pd\n",
    "from sklearn.model_selection import train_test_split\n",
    "from sklearn.preprocessing import LabelEncoder, StandardScaler"
   ]
  },
  {
   "cell_type": "code",
   "execution_count": 6,
   "id": "e7d8fda1-ad6d-4fba-8826-2b246bae3b75",
   "metadata": {},
   "outputs": [],
   "source": [
    "df = pd.read_csv('agaricus-lepiota.data', header=None)\n",
    "\n",
    "labelencoder = LabelEncoder()\n",
    "for col in df.columns:\n",
    "    df[col] = labelencoder.fit_transform(df[col])\n",
    "\n",
    "X = df.iloc[:, 1:]\n",
    "y = df.iloc[:, 0]\n",
    "\n",
    "X_train, X_test, y_train, y_test = train_test_split(X, y, test_size=0.2, random_state=42)\n",
    "\n",
    "scaler = StandardScaler()\n",
    "X_train = scaler.fit_transform(X_train)\n",
    "X_test = scaler.transform(X_test)"
   ]
  },
  {
   "cell_type": "code",
   "execution_count": 7,
   "id": "f19c0b35-227a-4e81-bf02-a066e4c791e8",
   "metadata": {},
   "outputs": [],
   "source": [
    "def sigmoid(z):\n",
    "    return 1 / (1 + np.exp(-z))\n",
    "\n",
    "def compute_loss(y, y_hat):\n",
    "    m = len(y)\n",
    "    return -1/m * np.sum(y * np.log(y_hat) + (1 - y) * np.log(1 - y_hat))\n",
    "\n",
    "def gradient_descent(X, y, w, b, learning_rate):\n",
    "    m = len(y)\n",
    "    y_hat = sigmoid(np.dot(X, w) + b)\n",
    "    dw = 1/m * np.dot(X.T, (y_hat - y))\n",
    "    db = 1/m * np.sum(y_hat - y)\n",
    "    w -= learning_rate * dw\n",
    "    b -= learning_rate * db\n",
    "    return w, b"
   ]
  },
  {
   "cell_type": "code",
   "execution_count": 8,
   "id": "6a7b859c-6e38-475e-9123-95b54f206b9b",
   "metadata": {},
   "outputs": [
    {
     "name": "stdout",
     "output_type": "stream",
     "text": [
      "Loss after iteration 0: 0.6886093198465015\n",
      "Loss after iteration 100: 0.44252145011725397\n",
      "Loss after iteration 200: 0.3584354190605972\n",
      "Loss after iteration 300: 0.31772990151614033\n",
      "Loss after iteration 400: 0.2937939432538207\n",
      "Loss after iteration 500: 0.2779680297340353\n",
      "Loss after iteration 600: 0.2666682822778348\n",
      "Loss after iteration 700: 0.2581539297450821\n",
      "Loss after iteration 800: 0.2514779698152658\n",
      "Loss after iteration 900: 0.2460803275018806\n"
     ]
    }
   ],
   "source": [
    "learning_rate = 0.01\n",
    "n_iterations = 1000\n",
    "n_features = X_train.shape[1]\n",
    "\n",
    "w = np.zeros((n_features, 1))\n",
    "b = 0\n",
    "\n",
    "y_train = y_train.values.reshape(-1, 1)\n",
    "\n",
    "for i in range(n_iterations):\n",
    "    w, b = gradient_descent(X_train, y_train, w, b, learning_rate)\n",
    "    if i % 100 == 0:\n",
    "        print(\"Loss after iteration {}: {}\".format(i, compute_loss(y_train, sigmoid(np.dot(X_train, w) + b))))"
   ]
  },
  {
   "cell_type": "code",
   "execution_count": 9,
   "id": "23571fcd-519c-49d6-9dc8-1090fb926d82",
   "metadata": {},
   "outputs": [
    {
     "name": "stdout",
     "output_type": "stream",
     "text": [
      "Accuracy: 90.95384615384616%\n"
     ]
    }
   ],
   "source": [
    "y_pred = sigmoid(np.dot(X_test, w) + b) >= 0.5\n",
    "\n",
    "accuracy = np.mean(y_pred.flatten() == y_test)\n",
    "print(f'Accuracy: {accuracy * 100}%')"
   ]
  },
  {
   "cell_type": "code",
   "execution_count": null,
   "id": "5941286e-ce3b-4fa4-b01c-1a1c0afc8f84",
   "metadata": {},
   "outputs": [],
   "source": []
  }
 ],
 "metadata": {
  "kernelspec": {
   "display_name": "Python 3 (ipykernel)",
   "language": "python",
   "name": "python3"
  },
  "language_info": {
   "codemirror_mode": {
    "name": "ipython",
    "version": 3
   },
   "file_extension": ".py",
   "mimetype": "text/x-python",
   "name": "python",
   "nbconvert_exporter": "python",
   "pygments_lexer": "ipython3",
   "version": "3.11.5"
  }
 },
 "nbformat": 4,
 "nbformat_minor": 5
}
