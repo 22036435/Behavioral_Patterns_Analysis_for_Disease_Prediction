{
 "cells": [
  {
   "cell_type": "code",
   "execution_count": 1,
   "id": "7d332381",
   "metadata": {},
   "outputs": [
    {
     "name": "stdout",
     "output_type": "stream",
     "text": [
      "Best Path: [0, 4, 2, 1, 3]\n",
      "Best Distance: 87\n"
     ]
    }
   ],
   "source": [
    "import random\n",
    "import numpy as np\n",
    "\n",
    "#example matrix\n",
    "distance_matrix = np.array([\n",
    "    [0, 29, 20, 21, 16],\n",
    "    [29, 0, 15, 18, 26],\n",
    "    [20, 15, 0, 12, 17],\n",
    "    [21, 18, 12, 0, 24],\n",
    "    [16, 26, 17, 24, 0]\n",
    "])\n",
    "\n",
    "# genetic algorithm parameters\n",
    "population_size = 50\n",
    "mutation_rate = 0.01\n",
    "generations = 1000\n",
    "\n",
    "def initial_population(size, num_cities):\n",
    "    population = [list(np.random.permutation(num_cities)) for _ in range(size)]\n",
    "    return population\n",
    "\n",
    "def calculate_total_distance(path):\n",
    "    total_distance = 0\n",
    "    for i in range(len(path) - 1):\n",
    "        total_distance += distance_matrix[path[i]][path[i+1]]\n",
    "    total_distance += distance_matrix[path[-1]][path[0]]\n",
    "    return total_distance\n",
    "\n",
    "def crossover(parent1, parent2):\n",
    "    # Order Crossover (OX1)\n",
    "    start, end = sorted(random.sample(range(len(parent1)), 2))\n",
    "    child = [-1] * len(parent1)\n",
    "    for i in range(start, end + 1):\n",
    "        child[i] = parent1[i]\n",
    "    \n",
    "    remaining_cities = [city for city in parent2 if city not in child]\n",
    "    j = 0\n",
    "    for i in range(len(parent1)):\n",
    "        if child[i] == -1:\n",
    "            child[i] = remaining_cities[j]\n",
    "            j += 1\n",
    "    \n",
    "    return child\n",
    "\n",
    "def mutate(path):\n",
    "    if random.random() < mutation_rate:\n",
    "        index1, index2 = random.sample(range(len(path)), 2)\n",
    "        path[index1], path[index2] = path[index2], path[index1]\n",
    "\n",
    "def genetic_algorithm(num_cities, population_size, generations):\n",
    "    population = initial_population(population_size, num_cities)\n",
    "    \n",
    "    for generation in range(generations):\n",
    "        population = sorted(population, key=lambda x: calculate_total_distance(x))\n",
    "        \n",
    "        # selecting the top 50% of the population as parents\n",
    "        selected_parents = population[:population_size // 2]\n",
    "        \n",
    "        # creating the next generation through crossover\n",
    "        new_generation = []\n",
    "        while len(new_generation) < population_size:\n",
    "            parent1, parent2 = random.sample(selected_parents, 2)\n",
    "            child = crossover(parent1, parent2)\n",
    "            mutate(child)\n",
    "            new_generation.append(child)\n",
    "        \n",
    "        population = new_generation\n",
    "    \n",
    "    best_path = population[0]\n",
    "    best_distance = calculate_total_distance(best_path)\n",
    "    \n",
    "    return best_path, best_distance\n",
    "\n",
    "best_path, best_distance = genetic_algorithm(len(distance_matrix), population_size, generations)\n",
    "print(\"Best Path:\", best_path)\n",
    "print(\"Best Distance:\", best_distance)"
   ]
  },
  {
   "cell_type": "code",
   "execution_count": null,
   "id": "6a8e596c",
   "metadata": {},
   "outputs": [],
   "source": []
  }
 ],
 "metadata": {
  "kernelspec": {
   "display_name": "Python 3 (ipykernel)",
   "language": "python",
   "name": "python3"
  },
  "language_info": {
   "codemirror_mode": {
    "name": "ipython",
    "version": 3
   },
   "file_extension": ".py",
   "mimetype": "text/x-python",
   "name": "python",
   "nbconvert_exporter": "python",
   "pygments_lexer": "ipython3",
   "version": "3.11.4"
  }
 },
 "nbformat": 4,
 "nbformat_minor": 5
}
