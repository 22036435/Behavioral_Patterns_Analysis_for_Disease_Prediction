{
 "cells": [
  {
   "cell_type": "code",
   "execution_count": 1,
   "id": "05b7cf59",
   "metadata": {},
   "outputs": [
    {
     "name": "stdout",
     "output_type": "stream",
     "text": [
      "Generated Sequence:\n",
      "text for testing Markov chains. Markov chains are a powerful tool for modeling sequences of data. This is just a\n"
     ]
    }
   ],
   "source": [
    "import random\n",
    "from collections import defaultdict\n",
    "from scipy.sparse import dok_matrix\n",
    "\n",
    "# Sample text for testing\n",
    "text = \"This is a sample text for testing Markov chains. Markov chains are a powerful tool for modeling sequences of data. This is just a small example.\"\n",
    "\n",
    "# Function to tokenize the text into words\n",
    "def tokenize(text):\n",
    "    return text.split()\n",
    "\n",
    "# Function to build a Markov chain model from the text\n",
    "def build_markov_chain(text, k=2):\n",
    "    words = tokenize(text)\n",
    "    word_dict = defaultdict(list)\n",
    "\n",
    "    for i in range(len(words) - k):\n",
    "        current_state = \" \".join(words[i:i+k])\n",
    "        next_state = words[i+k]\n",
    "        word_dict[current_state].append(next_state)\n",
    "\n",
    "    return word_dict\n",
    "\n",
    "# Function to generate a sequence of words using the Markov chain\n",
    "def generate_sequence(markov_chain, k=2, length=10):\n",
    "    current_state = random.choice(list(markov_chain.keys()))\n",
    "    sequence = current_state.split()\n",
    "\n",
    "    for _ in range(length - k):\n",
    "        if current_state not in markov_chain:\n",
    "            break\n",
    "        next_word = random.choice(markov_chain[current_state])\n",
    "        sequence.append(next_word)\n",
    "        current_state = \" \".join(sequence[-k:])\n",
    "\n",
    "    return \" \".join(sequence)\n",
    "\n",
    "# Build the Markov chain model from the sample text\n",
    "markov_chain = build_markov_chain(text)\n",
    "\n",
    "# Generate a sequence of words using the Markov chain\n",
    "generated_sequence = generate_sequence(markov_chain, k=2, length=20)\n",
    "print(\"Generated Sequence:\")\n",
    "print(generated_sequence)"
   ]
  },
  {
   "cell_type": "code",
   "execution_count": null,
   "id": "83c5e227",
   "metadata": {},
   "outputs": [],
   "source": []
  }
 ],
 "metadata": {
  "kernelspec": {
   "display_name": "Python 3 (ipykernel)",
   "language": "python",
   "name": "python3"
  },
  "language_info": {
   "codemirror_mode": {
    "name": "ipython",
    "version": 3
   },
   "file_extension": ".py",
   "mimetype": "text/x-python",
   "name": "python",
   "nbconvert_exporter": "python",
   "pygments_lexer": "ipython3",
   "version": "3.11.4"
  }
 },
 "nbformat": 4,
 "nbformat_minor": 5
}
