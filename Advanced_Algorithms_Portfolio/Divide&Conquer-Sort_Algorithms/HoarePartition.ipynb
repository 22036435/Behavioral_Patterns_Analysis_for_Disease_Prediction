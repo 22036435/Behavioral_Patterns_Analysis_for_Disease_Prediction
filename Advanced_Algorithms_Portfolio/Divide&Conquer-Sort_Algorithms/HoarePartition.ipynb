{
 "cells": [
  {
   "cell_type": "code",
   "execution_count": 1,
   "metadata": {},
   "outputs": [],
   "source": [
    "def hoare_partition(A, p, r):\n",
    "    x = A[p]  # Choosing a pivot - O(1)\n",
    "    i = p - 1\n",
    "    j = r + 1\n",
    "\n",
    "    while True:  # This loop will run in O(n) in the worst case\n",
    "        while True:\n",
    "            j -= 1  # Decrementing j - O(1) per iteration\n",
    "            if A[j] <= x:  # Comparison - O(1)\n",
    "                break  # Breaks when a value <= pivot is found\n",
    "\n",
    "        while True:\n",
    "            i += 1  # Incrementing i - O(1) per iteration\n",
    "            if A[i] >= x:  # Comparison - O(1)\n",
    "                break  # Breaks when a value >= pivot is found\n",
    "\n",
    "        if i < j:\n",
    "            A[i], A[j] = A[j], A[i]  # Swapping - O(1)\n",
    "        else:\n",
    "            return j  # Partition point found - O(1)"
   ]
  }
 ],
 "metadata": {
  "kernelspec": {
   "display_name": "Python 3.11.3 64-bit",
   "language": "python",
   "name": "python3"
  },
  "language_info": {
   "codemirror_mode": {
    "name": "ipython",
    "version": 3
   },
   "file_extension": ".py",
   "mimetype": "text/x-python",
   "name": "python",
   "nbconvert_exporter": "python",
   "pygments_lexer": "ipython3",
   "version": "3.11.3"
  },
  "orig_nbformat": 4,
  "vscode": {
   "interpreter": {
    "hash": "aee8b7b246df8f9039afb4144a1f6fd8d2ca17a180786b69acc140d282b71a49"
   }
  }
 },
 "nbformat": 4,
 "nbformat_minor": 2
}
