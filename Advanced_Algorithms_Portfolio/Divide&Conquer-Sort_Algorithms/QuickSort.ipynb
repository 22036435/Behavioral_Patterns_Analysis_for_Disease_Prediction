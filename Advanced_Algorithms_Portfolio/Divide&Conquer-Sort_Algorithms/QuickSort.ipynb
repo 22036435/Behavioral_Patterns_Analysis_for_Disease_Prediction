{
 "cells": [
  {
   "cell_type": "code",
   "execution_count": 1,
   "metadata": {},
   "outputs": [],
   "source": [
    "def quicksort(arr):\n",
    "    if len(arr) == 1 or len(arr) == 0:\n",
    "        return arr  # Base case: O(1)\n",
    "    else:\n",
    "        pivot = arr[-1]  # Choosing the last element as pivot - O(1)\n",
    "        left = [x for x in arr if x < pivot]  # Partitioning: O(n)\n",
    "        right = [x for x in arr if x > pivot]  # Partitioning: O(n)\n",
    "\n",
    "        # Recursive calls\n",
    "        left_sorted = quicksort(left)  # Recursive call on left part - T(k)\n",
    "        right_sorted = quicksort(right)  # Recursive call on right part - T(n - k - 1)\n",
    "\n",
    "        # Combining the results\n",
    "        return left_sorted + [pivot] + right_sorted  # Combine: O(n)"
   ]
  }
 ],
 "metadata": {
  "kernelspec": {
   "display_name": "Python 3.11.3 64-bit",
   "language": "python",
   "name": "python3"
  },
  "language_info": {
   "codemirror_mode": {
    "name": "ipython",
    "version": 3
   },
   "file_extension": ".py",
   "mimetype": "text/x-python",
   "name": "python",
   "nbconvert_exporter": "python",
   "pygments_lexer": "ipython3",
   "version": "3.11.3"
  },
  "orig_nbformat": 4,
  "vscode": {
   "interpreter": {
    "hash": "aee8b7b246df8f9039afb4144a1f6fd8d2ca17a180786b69acc140d282b71a49"
   }
  }
 },
 "nbformat": 4,
 "nbformat_minor": 2
}
