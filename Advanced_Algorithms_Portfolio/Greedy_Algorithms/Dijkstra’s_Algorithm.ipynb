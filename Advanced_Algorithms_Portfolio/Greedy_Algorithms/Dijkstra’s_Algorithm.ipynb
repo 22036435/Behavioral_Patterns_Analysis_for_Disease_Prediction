{
 "cells": [
  {
   "cell_type": "code",
   "execution_count": 1,
   "metadata": {},
   "outputs": [
    {
     "name": "stdout",
     "output_type": "stream",
     "text": [
      "{'A': 0, 'B': 3, 'C': 7, 'D': 15}\n"
     ]
    }
   ],
   "source": [
    "def longestPath(graph, start):\n",
    "    # Step 1: Perform a topological sort\n",
    "    topo_order = topologicalSort(graph)\n",
    "\n",
    "    # Step 2: Initialize distances\n",
    "    distances = {node: float('-inf') for node in graph}\n",
    "    distances[start] = 0\n",
    "\n",
    "    # Step 3: Relax the edges\n",
    "    for node in topo_order:\n",
    "        for neighbor, weight in graph[node]:\n",
    "            if distances[node] + weight > distances[neighbor]:\n",
    "                distances[neighbor] = distances[node] + weight\n",
    "\n",
    "    return distances\n",
    "\n",
    "def topologicalSort(graph):\n",
    "    visited = set()\n",
    "    topo_order = []\n",
    "\n",
    "    def dfs(node):\n",
    "        visited.add(node)\n",
    "        for neighbor, _ in graph[node]:\n",
    "            if neighbor not in visited:\n",
    "                dfs(neighbor)\n",
    "        topo_order.append(node)\n",
    "\n",
    "    for node in graph:\n",
    "        if node not in visited:\n",
    "            dfs(node)\n",
    "\n",
    "    return topo_order[::-1]\n",
    "\n",
    "graph = {\n",
    "    'A': [('B', 3), ('C', 6)],\n",
    "    'B': [('C', 4), ('D', 4)],\n",
    "    'C': [('D', 8)],\n",
    "    'D': []\n",
    "}\n",
    "\n",
    "print(longestPath(graph, 'A'))"
   ]
  }
 ],
 "metadata": {
  "kernelspec": {
   "display_name": "Python 3.11.3 64-bit",
   "language": "python",
   "name": "python3"
  },
  "language_info": {
   "codemirror_mode": {
    "name": "ipython",
    "version": 3
   },
   "file_extension": ".py",
   "mimetype": "text/x-python",
   "name": "python",
   "nbconvert_exporter": "python",
   "pygments_lexer": "ipython3",
   "version": "3.11.3"
  },
  "orig_nbformat": 4,
  "vscode": {
   "interpreter": {
    "hash": "aee8b7b246df8f9039afb4144a1f6fd8d2ca17a180786b69acc140d282b71a49"
   }
  }
 },
 "nbformat": 4,
 "nbformat_minor": 2
}
